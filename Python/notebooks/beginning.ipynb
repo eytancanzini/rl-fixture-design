{
 "cells": [
  {
   "cell_type": "markdown",
   "metadata": {},
   "source": [
    "# Creating a Contextual Bandit in Python using PyTorch\n",
    "This notebook is going to be used to experiment with the basics of creating a contextual bandit reinforcement learning agent that receives tasks $\\mathcal{T}_i$ at each timestep and performs action $a_i$ with receiving reward $r_i$.\n",
    "#### To-Do List:\n",
    "* Create a simple environment that has a discrete action space and continuous observation space\n",
    "* Create a simple agent that does the multi-armed bandit problem\n",
    "* Alter the agent to have the actions be fixturing positions and the reward to be related to the stress deformation \n",
    "    * May need to use MATLAB to create the reward function based on the deformation from the fixtures\n",
    "    * Can create a function map or a set of points (function map may be easier)"
   ]
  },
  {
   "cell_type": "code",
   "execution_count": null,
   "metadata": {},
   "outputs": [],
   "source": []
  }
 ],
 "metadata": {
  "interpreter": {
   "hash": "97b2bf48e32d8e2de32d844e69cf674f1390fa5d8c53747b94ee65ed539bc7c2"
  },
  "kernelspec": {
   "display_name": "Python 3.8.13 ('rl-fixture')",
   "language": "python",
   "name": "python3"
  },
  "language_info": {
   "codemirror_mode": {
    "name": "ipython",
    "version": 3
   },
   "file_extension": ".py",
   "mimetype": "text/x-python",
   "name": "python",
   "nbconvert_exporter": "python",
   "pygments_lexer": "ipython3",
   "version": "3.8.13"
  },
  "orig_nbformat": 4
 },
 "nbformat": 4,
 "nbformat_minor": 2
}
