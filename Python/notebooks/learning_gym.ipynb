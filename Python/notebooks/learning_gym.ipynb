{
 "cells": [
  {
   "cell_type": "markdown",
   "metadata": {},
   "source": [
    "# Learning to use Gym, PyTorch and StableBaselines3 for Reinforcement learning\n",
    "Very simple notebook for learning how to use the three tools mentioned above for reinforcement learning. I might even throw in Weights & Biases if I'm feeling lucky and then eventually move onto using MuJoCo for better physics simulation. There is a lot to do here so need to be ready for a lot of fighting\n",
    "## To-Do List\n",
    "- [X] Fix the error where no `torch.tensor` is being pased\n",
    "- [ ] Find out why the module is trying to concat a $1\\times 512$ matrix with a $4\\times 32$ matrix\n",
    "- [ ] Run the simulation and try and get a decent model\n",
    "- [ ] Evaluate the model on a better set of variables\n",
    "- [ ] Trasnfer to the GPU (somehow? Don't know if CUDA is installed)"
   ]
  },
  {
   "cell_type": "code",
   "execution_count": 1,
   "metadata": {},
   "outputs": [
    {
     "data": {
      "text/plain": [
       "'0.21.0'"
      ]
     },
     "execution_count": 1,
     "metadata": {},
     "output_type": "execute_result"
    }
   ],
   "source": [
    "import numpy as np\n",
    "import sklearn as sk\n",
    "import matplotlib as plt\n",
    "from tqdm import tqdm\n",
    "import gym\n",
    "import matplotlib.pyplot as plt\n",
    "\n",
    "MAX_EPISODES = 20\n",
    "MAX_ITERATIONS = 100\n",
    "\n",
    "gym.__version__\n"
   ]
  },
  {
   "cell_type": "code",
   "execution_count": 49,
   "metadata": {},
   "outputs": [
    {
     "name": "stdout",
     "output_type": "stream",
     "text": [
      "[ 0.20911957  1.5332924  -0.23903894 -2.4424908 ]\n",
      "Epsiode finished after 12 timesteps\n",
      "[ 0.10150199  0.00537551 -0.22257948 -0.526837  ]\n",
      "Epsiode finished after 18 timesteps\n",
      "[ 0.086514    0.5725944  -0.21280129 -1.2218453 ]\n",
      "Epsiode finished after 11 timesteps\n",
      "[ 0.14757447  0.22970277 -0.21639788 -0.7160952 ]\n",
      "Epsiode finished after 17 timesteps\n",
      "[ 0.2127624   1.7960484  -0.21334131 -2.6037984 ]\n",
      "Epsiode finished after 25 timesteps\n",
      "[-0.07425907 -1.1834116   0.22561729  2.05927   ]\n",
      "Epsiode finished after 10 timesteps\n",
      "[ 0.07157841  0.5511098  -0.20987761 -1.2419422 ]\n",
      "Epsiode finished after 11 timesteps\n",
      "[ 0.3325854   0.7829686  -0.21491194 -0.82722205]\n",
      "Epsiode finished after 36 timesteps\n",
      "[ 0.08855662  0.7742765  -0.2172736  -1.4721656 ]\n",
      "Epsiode finished after 10 timesteps\n",
      "[ 0.11313638  1.0192634  -0.21286653 -1.6693164 ]\n",
      "Epsiode finished after 13 timesteps\n",
      "[-0.18807949 -1.1724463   0.23419248  1.8829023 ]\n",
      "Epsiode finished after 30 timesteps\n",
      "[-0.11460693 -1.5173315   0.22988546  2.5211046 ]\n",
      "Epsiode finished after 12 timesteps\n",
      "[-0.10704973 -0.40596515  0.21634285  1.12759   ]\n",
      "Epsiode finished after 24 timesteps\n",
      "[-0.12044877 -0.76891035  0.21952192  1.3502927 ]\n",
      "Epsiode finished after 14 timesteps\n",
      "[ 0.12401191  0.98257184 -0.216393   -1.9318832 ]\n",
      "Epsiode finished after 19 timesteps\n",
      "[ 0.21764047 -0.01838268  0.24091695  1.416537  ]\n",
      "Epsiode finished after 40 timesteps\n",
      "[-0.06034339 -1.0121411   0.22393422  1.8233213 ]\n",
      "Epsiode finished after 39 timesteps\n",
      "[-0.16217212 -0.41937894  0.22447662  1.0962703 ]\n",
      "Epsiode finished after 18 timesteps\n",
      "[-0.12442003 -1.1899539   0.22259638  2.0278833 ]\n",
      "Epsiode finished after 14 timesteps\n",
      "[-0.35314572 -0.41331485  0.2191942   0.6075599 ]\n",
      "Epsiode finished after 42 timesteps\n"
     ]
    }
   ],
   "source": [
    "# Start with just the simple cartpole problem\n",
    "\n",
    "env = gym.make('CartPole-v1')\n",
    "env.reset()\n",
    "\n",
    "for idx in range(MAX_EPISODES):\n",
    "    observation = env.reset()\n",
    "    for t in range(MAX_ITERATIONS):\n",
    "        env.render()\n",
    "        action = env.action_space.sample()\n",
    "        observation, reward, done, info = env.step(action)\n",
    "        \n",
    "        if done:\n",
    "            print(observation)\n",
    "            print(f\"Epsiode finished after {t+1} timesteps\")\n",
    "            break\n",
    "env.close()"
   ]
  },
  {
   "cell_type": "code",
   "execution_count": 3,
   "metadata": {},
   "outputs": [
    {
     "name": "stdout",
     "output_type": "stream",
     "text": [
      "1.11.0\n"
     ]
    }
   ],
   "source": [
    "\"\"\"\n",
    "Information regarding environment:\n",
    "\n",
    "Observation space:\n",
    "(4,) array with elements: [position, velocity, angle, angular velocity]\n",
    "\n",
    "Action space:\n",
    "(1,) array that is in the range {0,1} (DISCRETE)\n",
    "\"\"\"\n",
    "\n",
    "import math \n",
    "import random\n",
    "from collections import namedtuple, deque\n",
    "from itertools import count\n",
    "\n",
    "import torch\n",
    "import torch.nn as nn\n",
    "import torch.optim as optim\n",
    "import torch.nn.functional as F\n",
    "\n",
    "\n",
    "device = torch.device(\"cpu\")\n",
    "print(torch.__version__)"
   ]
  },
  {
   "cell_type": "markdown",
   "metadata": {},
   "source": [
    "The idea is to convert the work in the \"Hands-On ML\" book to work in PyTorch. I'd rather work in PyTorch simply for my own work. For deep Q-learning, we get a function $Q^*:\\textit{State}\\times\\textit{Action}\\rightarrow \\mathbb{R}$ which gives us the return for a specific action in a state. We want to maximise this: $\\pi^*(s)=\\underset{a}{\\mbox{argmax }}Q^*(s, a)$"
   ]
  },
  {
   "cell_type": "code",
   "execution_count": 4,
   "metadata": {},
   "outputs": [],
   "source": [
    "input_shape = 4 # Input shape is the observations of the cartpole [pos, vel, ang, ang_vel]\n",
    "output_shape = 2 # Output shape is the action space size {-1,1}\n",
    "\n",
    "Transition = namedtuple('Transition',\n",
    "                        ('state', 'action', 'next_state', 'reward'))\n",
    "\n",
    "\n",
    "class ReplayMemory(object):\n",
    "    \"\"\"\n",
    "    Replay buffer used to store the previous steps taken in the training algorithm. Uses the deque function.\n",
    "    (Could change to using the Reverb library from DeepMind)\n",
    "    \"\"\"\n",
    "\n",
    "    def __init__(self, capacity):\n",
    "        self.memory = deque([],maxlen=capacity)\n",
    "\n",
    "    def push(self, *args):\n",
    "        \"\"\"Save a transition\"\"\"\n",
    "        self.memory.append(Transition(*args))\n",
    "\n",
    "    def sample(self, batch_size):\n",
    "        return random.sample(self.memory, batch_size)\n",
    "\n",
    "    def __len__(self):\n",
    "        return len(self.memory)"
   ]
  },
  {
   "cell_type": "code",
   "execution_count": 5,
   "metadata": {},
   "outputs": [
    {
     "data": {
      "text/plain": [
       "DQN(\n",
       "  (l_input): Linear(in_features=4, out_features=32, bias=True)\n",
       "  (hidden_1): Linear(in_features=32, out_features=32, bias=True)\n",
       "  (l_output): Linear(in_features=32, out_features=2, bias=True)\n",
       ")"
      ]
     },
     "execution_count": 5,
     "metadata": {},
     "output_type": "execute_result"
    }
   ],
   "source": [
    "# Build a DQN model in PyTorch. This is done using a class function to create a model parameters\n",
    "\n",
    "class DQN(nn.Module):\n",
    "    \"\"\"\n",
    "    Very basic network that has all linear layers with an input of 4 (the observations) and an output of 2 (the actions)\n",
    "    \"\"\"\n",
    "    \n",
    "    def __init__(self, inputs, output):\n",
    "        super(DQN, self).__init__()\n",
    "        self.l_input = nn.Linear(inputs, 32)\n",
    "        self.hidden_1 = nn.Linear(32, 32)\n",
    "        self.l_output = nn.Linear(32, output)\n",
    "        \n",
    "        \n",
    "    def forward(self, x):\n",
    "        x = self.l_input(x)\n",
    "        x = F.relu(x)\n",
    "        x = self.hidden_1(x)\n",
    "        x = F.relu(x)\n",
    "        return self.l_output(x)\n",
    "    \n",
    "net = DQN(input_shape, output_shape)\n",
    "net"
   ]
  },
  {
   "cell_type": "code",
   "execution_count": 6,
   "metadata": {},
   "outputs": [
    {
     "data": {
      "text/plain": [
       "DQN(\n",
       "  (l_input): Linear(in_features=4, out_features=32, bias=True)\n",
       "  (hidden_1): Linear(in_features=32, out_features=32, bias=True)\n",
       "  (l_output): Linear(in_features=32, out_features=2, bias=True)\n",
       ")"
      ]
     },
     "execution_count": 6,
     "metadata": {},
     "output_type": "execute_result"
    }
   ],
   "source": [
    "BATCH_SIZE = 128\n",
    "GAMMA = 0.999\n",
    "EPS_START = 0.9\n",
    "EPS_END = 0.05\n",
    "EPS_DECAY = 200\n",
    "TARGET_UPDATE = 10\n",
    "\n",
    "policy_net = DQN(input_shape, output_shape).to(device)\n",
    "target_net = DQN(input_shape, output_shape).to(device)\n",
    "target_net.load_state_dict(policy_net.state_dict())\n",
    "target_net.eval()"
   ]
  },
  {
   "cell_type": "markdown",
   "metadata": {},
   "source": [
    "For this next part, we need to setup the optimiser for our model along with the function that determines taking a new step in the next direction. These functions will be adapted from the section in the \"Hands-On ML\" book, but using PyTorch for better future proofing"
   ]
  },
  {
   "cell_type": "code",
   "execution_count": 7,
   "metadata": {},
   "outputs": [],
   "source": [
    "def select_action(state):\n",
    "    global steps_done\n",
    "    sample = random.random()\n",
    "    eps_threshold = EPS_END + (EPS_START - EPS_END) *  math.exp(-1*steps_done / EPS_DECAY)\n",
    "    steps_done += 1\n",
    "    if sample > eps_threshold:\n",
    "        with torch.no_grad():\n",
    "            return policy_net(state).max(0)[1].view(1,1)\n",
    "    else:\n",
    "        return torch.tensor([[random.randrange(output_shape)]], device=device, dtype=torch.long)\n",
    "    \n",
    "def optimise_model():\n",
    "    if len(memory) < BATCH_SIZE:\n",
    "        return\n",
    "    transitions = memory.sample(BATCH_SIZE)\n",
    "    batch = Transition(*zip(*transitions))\n",
    "    non_final_mask = torch.tensor(tuple(map(lambda s: s is not None,\n",
    "                                            batch.next_state)), device=device, dtype=torch.bool)\n",
    "    non_final_next_states = torch.cat([s for s in batch.next_state if s is not None])\n",
    "    \n",
    "    state_batch = torch.cat(batch.state)\n",
    "    action_batch = torch.cat(batch.action)\n",
    "    reward = torch.cat(batch.reward)\n",
    "    \n",
    "    # Compute Q(s_t, a) for the model. \n",
    "    state_action_values = policy_net(state_batch).gather(1, action_batch)\n",
    "    \n",
    "    # Compute V(s_{t+1}) for all the next states\n",
    "    next_state_values = torch.zeros(BATCH_SIZE, device=device)\n",
    "    next_state_values[non_final_mask] = target_net(non_final_next_states).max(1)[0].detach()\n",
    "    \n",
    "    # Compute the expected Q values\n",
    "    expected_state_action_values = (next_state_values * GAMMA) + reward_batch\n",
    "    \n",
    "    # Compute the Huber loss\n",
    "    criterion = nn.SmoothL1Loss()\n",
    "    loss = criterion(state_action_values, expected_state_action_values.unsqueeze(1))\n",
    "    \n",
    "    optimizer.zero_grad()\n",
    "    loss.backward()\n",
    "    \n",
    "    for param in policy_net.parameters():\n",
    "        param.grad.data.clamp_(-1,1)\n",
    "        \n",
    "    # Step the optimiser\n",
    "    optimizer.step()"
   ]
  },
  {
   "cell_type": "markdown",
   "metadata": {},
   "source": [
    "Final step is the actual training loop. This is the part that causes problems, so need to be careful how we do this. The observation comes in the form of a `nparray` whereas we want it in the form of a `torch.tensor`. This conversion has to be done before the model is called as otherwise it doesn't work"
   ]
  },
  {
   "cell_type": "code",
   "execution_count": 8,
   "metadata": {
    "tags": []
   },
   "outputs": [
    {
     "name": "stdout",
     "output_type": "stream",
     "text": [
      "Episode Number: 0\n"
     ]
    },
    {
     "name": "stderr",
     "output_type": "stream",
     "text": [
      "  6%|▌         | 11/200 [00:00<00:00, 3359.60it/s]\n"
     ]
    },
    {
     "name": "stdout",
     "output_type": "stream",
     "text": [
      "Episode Number: 1\n"
     ]
    },
    {
     "name": "stderr",
     "output_type": "stream",
     "text": [
      "  9%|▉         | 18/200 [00:00<00:00, 5026.80it/s]\n"
     ]
    },
    {
     "name": "stdout",
     "output_type": "stream",
     "text": [
      "Episode Number: 2\n"
     ]
    },
    {
     "name": "stderr",
     "output_type": "stream",
     "text": [
      " 10%|▉         | 19/200 [00:00<00:00, 5720.05it/s]\n"
     ]
    },
    {
     "name": "stdout",
     "output_type": "stream",
     "text": [
      "Episode Number: 3\n"
     ]
    },
    {
     "name": "stderr",
     "output_type": "stream",
     "text": [
      " 14%|█▎        | 27/200 [00:00<00:00, 5266.78it/s]\n"
     ]
    },
    {
     "name": "stdout",
     "output_type": "stream",
     "text": [
      "Episode Number: 4\n"
     ]
    },
    {
     "name": "stderr",
     "output_type": "stream",
     "text": [
      "  4%|▍         | 9/200 [00:00<00:00, 2895.29it/s]"
     ]
    },
    {
     "name": "stdout",
     "output_type": "stream",
     "text": [
      "Finished training\n"
     ]
    },
    {
     "name": "stderr",
     "output_type": "stream",
     "text": [
      "\n"
     ]
    }
   ],
   "source": [
    "NUM_EPISODES = 5 # DOES NOT WORK AT NUMBERS GREATER THAN THIS\n",
    "NUM_ITERATIONS = 200\n",
    "\n",
    "episode_durations = []\n",
    "steps_done = 0\n",
    "\n",
    "optimizer = optim.RMSprop(policy_net.parameters())\n",
    "memory = ReplayMemory(10000)\n",
    "\n",
    "\"\"\"\n",
    "TODO:\n",
    "Need to find out why it is not a torch tensor. Do I need to convert everything to tensors to stop the error?\n",
    "UPDATE 25/05/2022@17:00 - It seems I do need to change everything to tensors to get the error to go away, but it seems that the memory isn't clearing\n",
    "\"\"\"\n",
    "for i_episode in range(NUM_EPISODES):\n",
    "    \n",
    "    print(f\"Episode Number: {i_episode}\")\n",
    "    \n",
    "    # Reset the env at the beginning of the episode\n",
    "    obs = env.reset()\n",
    "    \n",
    "    for idx in tqdm(range(NUM_ITERATIONS)):\n",
    "        # Convert the state and get the action\n",
    "        state = torch.from_numpy(obs)\n",
    "        action = select_action(state)\n",
    "        \n",
    "        # Step the environment with the chosen action\n",
    "        state_obs, reward, done, info = env.step(action.item())\n",
    "        reward = torch.tensor([reward], device=device)\n",
    "        \n",
    "        # Check to see if the env is done or not\n",
    "        if not done:\n",
    "            next_state = torch.from_numpy(state_obs)\n",
    "        else:\n",
    "            next_state = None\n",
    "        \n",
    "        # Add this information to the buffer\n",
    "        memory.push(state, action, next_state, reward)\n",
    "        \n",
    "        # Move onto the next state and optimise the model\n",
    "        obs = state_obs\n",
    "        optimise_model()\n",
    "        \n",
    "        if done:\n",
    "            episode_durations.append(idx + 1)\n",
    "            break;\n",
    "    if i_episode & TARGET_UPDATE == 0:\n",
    "        target_net.load_state_dict(policy_net.state_dict())\n",
    "        \n",
    "print(\"Finished training\")             "
   ]
  },
  {
   "cell_type": "code",
   "execution_count": 9,
   "metadata": {},
   "outputs": [
    {
     "name": "stdout",
     "output_type": "stream",
     "text": [
      "[-0.14977871 -0.9963823   0.21811153  1.5715076 ]\n",
      "Epsiode finished after 15 timesteps\n",
      "[-0.09403744 -1.3513973   0.22782877  2.3029728 ]\n",
      "Epsiode finished after 11 timesteps\n",
      "[-0.18558191 -1.9796238   0.2556672   3.062982  ]\n",
      "Epsiode finished after 10 timesteps\n",
      "[-0.17081837 -1.2310686   0.22750783  2.0023    ]\n",
      "Epsiode finished after 20 timesteps\n",
      "[-0.10787734 -1.7571759   0.2162155   2.7545035 ]\n",
      "Epsiode finished after 11 timesteps\n",
      "[-0.18571898 -1.2154477   0.2345967   1.9286724 ]\n",
      "Epsiode finished after 12 timesteps\n",
      "[-0.08735792 -1.2025477   0.20997773  1.9508758 ]\n",
      "Epsiode finished after 8 timesteps\n",
      "[-0.1824925  -1.5907183   0.24729128  2.607066  ]\n",
      "Epsiode finished after 10 timesteps\n",
      "[-0.19759926 -1.3469483   0.22220594  1.8702506 ]\n",
      "Epsiode finished after 21 timesteps\n",
      "[-0.11023394 -1.6160027   0.20995219  2.5362864 ]\n",
      "Epsiode finished after 14 timesteps\n",
      "[-0.19441117 -1.7668047   0.23708229  2.6517723 ]\n",
      "Epsiode finished after 21 timesteps\n",
      "[-0.19800596 -1.9738538   0.21894585  3.008807  ]\n",
      "Epsiode finished after 10 timesteps\n",
      "[-0.13418677 -1.584924    0.22506209  2.4778614 ]\n",
      "Epsiode finished after 12 timesteps\n",
      "[-0.23553827 -1.6965208   0.2472814   2.4441636 ]\n",
      "Epsiode finished after 27 timesteps\n",
      "[-0.1228409  -1.5245479   0.22142683  2.473681  ]\n",
      "Epsiode finished after 10 timesteps\n",
      "[-0.14999825 -1.3446044   0.22818862  2.3239186 ]\n",
      "Epsiode finished after 9 timesteps\n",
      "[-0.1444921  -1.5788268   0.24378094  2.5690596 ]\n",
      "Epsiode finished after 10 timesteps\n",
      "[-0.20068298 -1.1896372   0.24392219  1.9386753 ]\n",
      "Epsiode finished after 12 timesteps\n",
      "[-0.0945636  -1.7346706   0.25334936  2.8988526 ]\n",
      "Epsiode finished after 9 timesteps\n",
      "[-0.16217008 -1.5957536   0.22479337  2.5194528 ]\n",
      "Epsiode finished after 14 timesteps\n"
     ]
    }
   ],
   "source": [
    "env.reset()\n",
    "\n",
    "for idx in range(MAX_EPISODES):\n",
    "    obs = env.reset()\n",
    "    for t in range(MAX_ITERATIONS):\n",
    "        env.render()\n",
    "        state = torch.from_numpy(obs)\n",
    "        action = select_action(state)\n",
    "        observation, reward, done, info = env.step(action.item())\n",
    "        \n",
    "        if done:\n",
    "            print(observation)\n",
    "            print(f\"Epsiode finished after {t+1} timesteps\")\n",
    "            break\n",
    "env.close()"
   ]
  },
  {
   "cell_type": "code",
   "execution_count": 10,
   "metadata": {},
   "outputs": [
    {
     "data": {
      "text/plain": [
       "<__main__.ReplayMemory at 0x7ff441ec5be0>"
      ]
     },
     "execution_count": 10,
     "metadata": {},
     "output_type": "execute_result"
    }
   ],
   "source": [
    "memory"
   ]
  },
  {
   "cell_type": "code",
   "execution_count": 43,
   "metadata": {},
   "outputs": [
    {
     "data": {
      "text/plain": [
       "(tensor([[1],\n",
       "         [0],\n",
       "         [1],\n",
       "         [0],\n",
       "         [0]]),\n",
       " tensor([-0.1631, -1.3515,  0.2068,  2.1994, -0.1400, -1.1550,  0.1696,  1.8592,\n",
       "          0.0347, -0.1968,  0.0284,  0.2738, -0.1193, -1.7190,  0.1946,  2.7024,\n",
       "          0.0202,  0.0236, -0.0414,  0.0214]))"
      ]
     },
     "execution_count": 43,
     "metadata": {},
     "output_type": "execute_result"
    }
   ],
   "source": [
    "transitions = memory.sample(5)\n",
    "batch = Transition(*zip(*transitions))\n",
    "non_final_mask = torch.tensor(tuple(map(lambda s: s is not None,\n",
    "                                        batch.next_state)), device=device, dtype=torch.bool)\n",
    "non_final_next_states = torch.cat([s for s in batch.next_state if s is not None])\n",
    "\n",
    "state_batch = torch.cat(batch.state)\n",
    "action_batch = torch.cat(batch.action)\n",
    "reward = torch.cat(batch.reward)\n",
    "action_batch, state_batch"
   ]
  },
  {
   "cell_type": "code",
   "execution_count": 48,
   "metadata": {},
   "outputs": [
    {
     "data": {
      "text/plain": [
       "tensor([[-0.0145],\n",
       "        [ 0.1078],\n",
       "        [-0.0530],\n",
       "        [ 0.0906],\n",
       "        [ 0.1185]], grad_fn=<GatherBackward0>)"
      ]
     },
     "execution_count": 48,
     "metadata": {},
     "output_type": "execute_result"
    }
   ],
   "source": [
    "policy_net(state_batch.view(-1, 4)).gather(1, action_batch)"
   ]
  },
  {
   "cell_type": "code",
   "execution_count": 24,
   "metadata": {},
   "outputs": [
    {
     "data": {
      "text/plain": [
       "tensor([-0.0174, -0.5916,  0.0371,  0.8774, -0.0648, -0.9849,  0.1091,  1.5368,\n",
       "         0.0295, -0.0054,  0.0432,  0.0629,  0.0054, -0.5945,  0.0876,  1.0268,\n",
       "         0.0346,  0.3871,  0.0279, -0.5734])"
      ]
     },
     "execution_count": 24,
     "metadata": {},
     "output_type": "execute_result"
    }
   ],
   "source": [
    "torch.cat(batch.state,-1)"
   ]
  },
  {
   "cell_type": "code",
   "execution_count": 26,
   "metadata": {},
   "outputs": [
    {
     "data": {
      "text/plain": [
       "tensor([-0.0648, -0.9849,  0.1091,  1.5368])"
      ]
     },
     "execution_count": 26,
     "metadata": {},
     "output_type": "execute_result"
    }
   ],
   "source": [
    "batch.state[1]"
   ]
  },
  {
   "cell_type": "code",
   "execution_count": 28,
   "metadata": {},
   "outputs": [
    {
     "data": {
      "text/plain": [
       "5"
      ]
     },
     "execution_count": 28,
     "metadata": {},
     "output_type": "execute_result"
    }
   ],
   "source": [
    "len(batch.state)"
   ]
  },
  {
   "cell_type": "code",
   "execution_count": 40,
   "metadata": {},
   "outputs": [
    {
     "data": {
      "text/plain": [
       "torch.Tensor"
      ]
     },
     "execution_count": 40,
     "metadata": {},
     "output_type": "execute_result"
    }
   ],
   "source": [
    "type(torch.cat(batch.state).view(-1, 4))"
   ]
  },
  {
   "cell_type": "code",
   "execution_count": 46,
   "metadata": {},
   "outputs": [
    {
     "data": {
      "text/plain": [
       "tensor([[-0.1631, -1.3515,  0.2068,  2.1994],\n",
       "        [-0.1400, -1.1550,  0.1696,  1.8592],\n",
       "        [ 0.0347, -0.1968,  0.0284,  0.2738],\n",
       "        [-0.1193, -1.7190,  0.1946,  2.7024],\n",
       "        [ 0.0202,  0.0236, -0.0414,  0.0214]])"
      ]
     },
     "execution_count": 46,
     "metadata": {},
     "output_type": "execute_result"
    }
   ],
   "source": [
    "state_batch.view(-1,4)"
   ]
  },
  {
   "cell_type": "code",
   "execution_count": null,
   "metadata": {},
   "outputs": [],
   "source": []
  }
 ],
 "metadata": {
  "interpreter": {
   "hash": "97b2bf48e32d8e2de32d844e69cf674f1390fa5d8c53747b94ee65ed539bc7c2"
  },
  "kernelspec": {
   "display_name": "Python 3 (ipykernel)",
   "language": "python",
   "name": "python3"
  },
  "language_info": {
   "codemirror_mode": {
    "name": "ipython",
    "version": 3
   },
   "file_extension": ".py",
   "mimetype": "text/x-python",
   "name": "python",
   "nbconvert_exporter": "python",
   "pygments_lexer": "ipython3",
   "version": "3.8.13"
  }
 },
 "nbformat": 4,
 "nbformat_minor": 4
}
