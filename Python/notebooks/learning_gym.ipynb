{
 "cells": [
  {
   "cell_type": "markdown",
   "metadata": {},
   "source": [
    "# Learning to use Gym, PyTorch and StableBaselines3 for Reinforcement learning\n",
    "Very simple notebook for learning how to use the three tools mentioned above for reinforcement learning. I might even throw in Weights & Biases if I'm feeling lucky and then eventually move onto using MuJoCo for better physics simulation"
   ]
  },
  {
   "cell_type": "code",
   "execution_count": 2,
   "metadata": {},
   "outputs": [
    {
     "data": {
      "text/plain": [
       "'0.21.0'"
      ]
     },
     "execution_count": 2,
     "metadata": {},
     "output_type": "execute_result"
    }
   ],
   "source": [
    "import numpy as np\n",
    "import sklearn as sk\n",
    "import matplotlib as plt\n",
    "from tqdm import tqdm\n",
    "import gym\n",
    "\n",
    "MAX_EPISODES = 20\n",
    "MAX_ITERATIONS = 100\n",
    "\n",
    "gym.__version__\n"
   ]
  },
  {
   "cell_type": "code",
   "execution_count": 6,
   "metadata": {},
   "outputs": [
    {
     "name": "stdout",
     "output_type": "stream",
     "text": [
      "[ 0.04606257  0.20158307 -0.21021262 -0.95991933]\n",
      "Epsiode finished after 31 timesteps\n",
      "[-0.13532186 -0.95802504  0.21929792  1.6882473 ]\n",
      "Epsiode finished after 13 timesteps\n",
      "[ 0.13732186  1.1433443  -0.22777657 -2.0271013 ]\n",
      "Epsiode finished after 18 timesteps\n",
      "[-0.11656555 -1.588703    0.2178225   2.5761945 ]\n",
      "Epsiode finished after 8 timesteps\n",
      "[ 0.10878819  1.0150386  -0.23364899 -2.0571046 ]\n",
      "Epsiode finished after 23 timesteps\n",
      "[-0.15747231 -0.7682214   0.22656898  1.3642386 ]\n",
      "Epsiode finished after 16 timesteps\n",
      "[-0.22852701 -0.9821502   0.21040644  1.6352308 ]\n",
      "Epsiode finished after 49 timesteps\n",
      "[-0.12000423  0.07271011 -0.21528246 -1.1915077 ]\n",
      "Epsiode finished after 48 timesteps\n",
      "[-0.12281255 -1.1447319   0.23127086  1.9962686 ]\n",
      "Epsiode finished after 14 timesteps\n",
      "[ 0.04287348  0.7524699  -0.20998743 -1.5717906 ]\n",
      "Epsiode finished after 14 timesteps\n",
      "[-0.12081863 -1.5376672   0.23695813  2.5334363 ]\n",
      "Epsiode finished after 16 timesteps\n",
      "[ 0.02729198 -0.9975471   0.21878293  2.148455  ]\n",
      "Epsiode finished after 41 timesteps\n",
      "[ 0.19614302  0.9781821  -0.21187831 -1.6307843 ]\n",
      "Epsiode finished after 13 timesteps\n",
      "[ 0.00584976 -0.22819251  0.21223997  1.1858534 ]\n",
      "Epsiode finished after 31 timesteps\n",
      "[ 0.01742599 -0.5686826   0.22507477  1.5067682 ]\n",
      "Epsiode finished after 39 timesteps\n",
      "[ 0.15056513  0.83914    -0.2275375  -1.5816231 ]\n",
      "Epsiode finished after 14 timesteps\n",
      "[-0.17711867 -0.4547091   0.22683807  1.1013162 ]\n",
      "Epsiode finished after 18 timesteps\n",
      "[ 0.07645923 -0.38891098 -0.2124889  -0.32844764]\n",
      "Epsiode finished after 32 timesteps\n",
      "[-0.12751618 -1.2136968   0.21494149  2.0338724 ]\n",
      "Epsiode finished after 22 timesteps\n",
      "[-0.19869146 -1.7877257   0.23598419  2.774183  ]\n",
      "Epsiode finished after 11 timesteps\n"
     ]
    }
   ],
   "source": [
    "# Start with just the simple cartpole problem\n",
    "\n",
    "env = gym.make('CartPole-v1')\n",
    "env.reset()\n",
    "\n",
    "for idx in range(MAX_EPISODES):\n",
    "    observation = env.reset()\n",
    "    for t in range(MAX_ITERATIONS):\n",
    "        env.render()\n",
    "        action = env.action_space.sample()\n",
    "        observation, reward, done, info = env.step(action)\n",
    "        \n",
    "        if done:\n",
    "            print(observation)\n",
    "            print(f\"Epsiode finished after {t+1} timesteps\")\n",
    "            break\n",
    "env.close()"
   ]
  },
  {
   "cell_type": "code",
   "execution_count": null,
   "metadata": {},
   "outputs": [],
   "source": [
    "\"\"\"\n",
    "Information regarding environment:\n",
    "\n",
    "Observation space:\n",
    "(4,) array with elements: [position, velocity, angle, angular velocity]\n",
    "\n",
    "Action space:\n",
    "(1,) array that is in the range {0,1} (DISCRETE)\n",
    "\"\"\"\n",
    "\n"
   ]
  }
 ],
 "metadata": {
  "interpreter": {
   "hash": "97b2bf48e32d8e2de32d844e69cf674f1390fa5d8c53747b94ee65ed539bc7c2"
  },
  "kernelspec": {
   "display_name": "Python 3.8.13 ('rl-fixture')",
   "language": "python",
   "name": "python3"
  },
  "language_info": {
   "codemirror_mode": {
    "name": "ipython",
    "version": 3
   },
   "file_extension": ".py",
   "mimetype": "text/x-python",
   "name": "python",
   "nbconvert_exporter": "python",
   "pygments_lexer": "ipython3",
   "version": "3.8.13"
  },
  "orig_nbformat": 4
 },
 "nbformat": 4,
 "nbformat_minor": 2
}
