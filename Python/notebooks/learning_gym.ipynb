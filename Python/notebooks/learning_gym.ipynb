{
 "cells": [
  {
   "cell_type": "markdown",
   "metadata": {},
   "source": [
    "# Learning to use Gym, PyTorch and StableBaselines3 for Reinforcement learning\n",
    "Very simple notebook for learning how to use the three tools mentioned above for reinforcement learning. I might even throw in Weights & Biases if I'm feeling lucky and then eventually move onto using MuJoCo for better physics simulation"
   ]
  },
  {
   "cell_type": "code",
   "execution_count": 8,
   "metadata": {},
   "outputs": [
    {
     "data": {
      "text/plain": [
       "'0.21.0'"
      ]
     },
     "execution_count": 8,
     "metadata": {},
     "output_type": "execute_result"
    }
   ],
   "source": [
    "import numpy as np\n",
    "import sklearn as sk\n",
    "import matplotlib as plt\n",
    "from tqdm import tqdm\n",
    "import gym\n",
    "\n",
    "MAX_EPISODES = 20\n",
    "MAX_ITERATIONS = 100\n",
    "\n",
    "gym.__version__\n"
   ]
  },
  {
   "cell_type": "code",
   "execution_count": 9,
   "metadata": {},
   "outputs": [
    {
     "ename": "ContextException",
     "evalue": "Could not create GL context",
     "output_type": "error",
     "traceback": [
      "\u001b[0;31m---------------------------------------------------------------------------\u001b[0m",
      "\u001b[0;31mContextException\u001b[0m                          Traceback (most recent call last)",
      "\u001b[1;32m/home/ethan/Documents/Projects/rl-fixture-design/Python/notebooks/learning_gym.ipynb Cell 3'\u001b[0m in \u001b[0;36m<cell line: 6>\u001b[0;34m()\u001b[0m\n\u001b[1;32m      <a href='vscode-notebook-cell:/home/ethan/Documents/Projects/rl-fixture-design/Python/notebooks/learning_gym.ipynb#ch0000002?line=6'>7</a>\u001b[0m observation \u001b[39m=\u001b[39m env\u001b[39m.\u001b[39mreset()\n\u001b[1;32m      <a href='vscode-notebook-cell:/home/ethan/Documents/Projects/rl-fixture-design/Python/notebooks/learning_gym.ipynb#ch0000002?line=7'>8</a>\u001b[0m \u001b[39mfor\u001b[39;00m t \u001b[39min\u001b[39;00m \u001b[39mrange\u001b[39m(MAX_ITERATIONS):\n\u001b[0;32m----> <a href='vscode-notebook-cell:/home/ethan/Documents/Projects/rl-fixture-design/Python/notebooks/learning_gym.ipynb#ch0000002?line=8'>9</a>\u001b[0m     env\u001b[39m.\u001b[39;49mrender()\n\u001b[1;32m     <a href='vscode-notebook-cell:/home/ethan/Documents/Projects/rl-fixture-design/Python/notebooks/learning_gym.ipynb#ch0000002?line=9'>10</a>\u001b[0m     action \u001b[39m=\u001b[39m env\u001b[39m.\u001b[39maction_space\u001b[39m.\u001b[39msample()\n\u001b[1;32m     <a href='vscode-notebook-cell:/home/ethan/Documents/Projects/rl-fixture-design/Python/notebooks/learning_gym.ipynb#ch0000002?line=10'>11</a>\u001b[0m     observation, reward, done, info \u001b[39m=\u001b[39m env\u001b[39m.\u001b[39mstep(action)\n",
      "File \u001b[0;32m~/miniconda3/envs/rl-fixture/lib/python3.8/site-packages/gym/core.py:295\u001b[0m, in \u001b[0;36mWrapper.render\u001b[0;34m(self, mode, **kwargs)\u001b[0m\n\u001b[1;32m    <a href='file:///home/ethan/miniconda3/envs/rl-fixture/lib/python3.8/site-packages/gym/core.py?line=293'>294</a>\u001b[0m \u001b[39mdef\u001b[39;00m \u001b[39mrender\u001b[39m(\u001b[39mself\u001b[39m, mode\u001b[39m=\u001b[39m\u001b[39m\"\u001b[39m\u001b[39mhuman\u001b[39m\u001b[39m\"\u001b[39m, \u001b[39m*\u001b[39m\u001b[39m*\u001b[39mkwargs):\n\u001b[0;32m--> <a href='file:///home/ethan/miniconda3/envs/rl-fixture/lib/python3.8/site-packages/gym/core.py?line=294'>295</a>\u001b[0m     \u001b[39mreturn\u001b[39;00m \u001b[39mself\u001b[39;49m\u001b[39m.\u001b[39;49menv\u001b[39m.\u001b[39;49mrender(mode, \u001b[39m*\u001b[39;49m\u001b[39m*\u001b[39;49mkwargs)\n",
      "File \u001b[0;32m~/miniconda3/envs/rl-fixture/lib/python3.8/site-packages/gym/envs/classic_control/cartpole.py:179\u001b[0m, in \u001b[0;36mCartPoleEnv.render\u001b[0;34m(self, mode)\u001b[0m\n\u001b[1;32m    <a href='file:///home/ethan/miniconda3/envs/rl-fixture/lib/python3.8/site-packages/gym/envs/classic_control/cartpole.py?line=175'>176</a>\u001b[0m cartheight \u001b[39m=\u001b[39m \u001b[39m30.0\u001b[39m\n\u001b[1;32m    <a href='file:///home/ethan/miniconda3/envs/rl-fixture/lib/python3.8/site-packages/gym/envs/classic_control/cartpole.py?line=177'>178</a>\u001b[0m \u001b[39mif\u001b[39;00m \u001b[39mself\u001b[39m\u001b[39m.\u001b[39mviewer \u001b[39mis\u001b[39;00m \u001b[39mNone\u001b[39;00m:\n\u001b[0;32m--> <a href='file:///home/ethan/miniconda3/envs/rl-fixture/lib/python3.8/site-packages/gym/envs/classic_control/cartpole.py?line=178'>179</a>\u001b[0m     \u001b[39mfrom\u001b[39;00m \u001b[39mgym\u001b[39;00m\u001b[39m.\u001b[39;00m\u001b[39menvs\u001b[39;00m\u001b[39m.\u001b[39;00m\u001b[39mclassic_control\u001b[39;00m \u001b[39mimport\u001b[39;00m rendering\n\u001b[1;32m    <a href='file:///home/ethan/miniconda3/envs/rl-fixture/lib/python3.8/site-packages/gym/envs/classic_control/cartpole.py?line=180'>181</a>\u001b[0m     \u001b[39mself\u001b[39m\u001b[39m.\u001b[39mviewer \u001b[39m=\u001b[39m rendering\u001b[39m.\u001b[39mViewer(screen_width, screen_height)\n\u001b[1;32m    <a href='file:///home/ethan/miniconda3/envs/rl-fixture/lib/python3.8/site-packages/gym/envs/classic_control/cartpole.py?line=181'>182</a>\u001b[0m     l, r, t, b \u001b[39m=\u001b[39m \u001b[39m-\u001b[39mcartwidth \u001b[39m/\u001b[39m \u001b[39m2\u001b[39m, cartwidth \u001b[39m/\u001b[39m \u001b[39m2\u001b[39m, cartheight \u001b[39m/\u001b[39m \u001b[39m2\u001b[39m, \u001b[39m-\u001b[39mcartheight \u001b[39m/\u001b[39m \u001b[39m2\u001b[39m\n",
      "File \u001b[0;32m~/miniconda3/envs/rl-fixture/lib/python3.8/site-packages/gym/envs/classic_control/rendering.py:27\u001b[0m, in \u001b[0;36m<module>\u001b[0;34m\u001b[0m\n\u001b[1;32m     <a href='file:///home/ethan/miniconda3/envs/rl-fixture/lib/python3.8/site-packages/gym/envs/classic_control/rendering.py?line=16'>17</a>\u001b[0m     \u001b[39mraise\u001b[39;00m \u001b[39mImportError\u001b[39;00m(\n\u001b[1;32m     <a href='file:///home/ethan/miniconda3/envs/rl-fixture/lib/python3.8/site-packages/gym/envs/classic_control/rendering.py?line=17'>18</a>\u001b[0m         \u001b[39m\"\"\"\u001b[39;00m\n\u001b[1;32m     <a href='file:///home/ethan/miniconda3/envs/rl-fixture/lib/python3.8/site-packages/gym/envs/classic_control/rendering.py?line=18'>19</a>\u001b[0m \u001b[39m    Cannot import pyglet.\u001b[39;00m\n\u001b[0;32m   (...)\u001b[0m\n\u001b[1;32m     <a href='file:///home/ethan/miniconda3/envs/rl-fixture/lib/python3.8/site-packages/gym/envs/classic_control/rendering.py?line=22'>23</a>\u001b[0m \u001b[39m    \"\"\"\u001b[39;00m\n\u001b[1;32m     <a href='file:///home/ethan/miniconda3/envs/rl-fixture/lib/python3.8/site-packages/gym/envs/classic_control/rendering.py?line=23'>24</a>\u001b[0m     )\n\u001b[1;32m     <a href='file:///home/ethan/miniconda3/envs/rl-fixture/lib/python3.8/site-packages/gym/envs/classic_control/rendering.py?line=25'>26</a>\u001b[0m \u001b[39mtry\u001b[39;00m:\n\u001b[0;32m---> <a href='file:///home/ethan/miniconda3/envs/rl-fixture/lib/python3.8/site-packages/gym/envs/classic_control/rendering.py?line=26'>27</a>\u001b[0m     \u001b[39mfrom\u001b[39;00m \u001b[39mpyglet\u001b[39;00m\u001b[39m.\u001b[39;00m\u001b[39mgl\u001b[39;00m \u001b[39mimport\u001b[39;00m \u001b[39m*\u001b[39m\n\u001b[1;32m     <a href='file:///home/ethan/miniconda3/envs/rl-fixture/lib/python3.8/site-packages/gym/envs/classic_control/rendering.py?line=27'>28</a>\u001b[0m \u001b[39mexcept\u001b[39;00m \u001b[39mImportError\u001b[39;00m \u001b[39mas\u001b[39;00m e:\n\u001b[1;32m     <a href='file:///home/ethan/miniconda3/envs/rl-fixture/lib/python3.8/site-packages/gym/envs/classic_control/rendering.py?line=28'>29</a>\u001b[0m     \u001b[39mraise\u001b[39;00m \u001b[39mImportError\u001b[39;00m(\n\u001b[1;32m     <a href='file:///home/ethan/miniconda3/envs/rl-fixture/lib/python3.8/site-packages/gym/envs/classic_control/rendering.py?line=29'>30</a>\u001b[0m         \u001b[39m\"\"\"\u001b[39;00m\n\u001b[1;32m     <a href='file:///home/ethan/miniconda3/envs/rl-fixture/lib/python3.8/site-packages/gym/envs/classic_control/rendering.py?line=30'>31</a>\u001b[0m \u001b[39m    Error occurred while running `from pyglet.gl import *`\u001b[39;00m\n\u001b[0;32m   (...)\u001b[0m\n\u001b[1;32m     <a href='file:///home/ethan/miniconda3/envs/rl-fixture/lib/python3.8/site-packages/gym/envs/classic_control/rendering.py?line=34'>35</a>\u001b[0m \u001b[39m    \"\"\"\u001b[39;00m\n\u001b[1;32m     <a href='file:///home/ethan/miniconda3/envs/rl-fixture/lib/python3.8/site-packages/gym/envs/classic_control/rendering.py?line=35'>36</a>\u001b[0m     )\n",
      "File \u001b[0;32m~/miniconda3/envs/rl-fixture/lib/python3.8/site-packages/pyglet/gl/__init__.py:243\u001b[0m, in \u001b[0;36m<module>\u001b[0;34m\u001b[0m\n\u001b[1;32m    <a href='file:///home/ethan/miniconda3/envs/rl-fixture/lib/python3.8/site-packages/pyglet/gl/__init__.py?line=239'>240</a>\u001b[0m \u001b[39mif\u001b[39;00m \u001b[39mnot\u001b[39;00m _is_pyglet_doc_run \u001b[39mand\u001b[39;00m \u001b[39m'\u001b[39m\u001b[39mpyglet.window\u001b[39m\u001b[39m'\u001b[39m \u001b[39mnot\u001b[39;00m \u001b[39min\u001b[39;00m _sys\u001b[39m.\u001b[39mmodules \u001b[39mand\u001b[39;00m _pyglet\u001b[39m.\u001b[39moptions[\u001b[39m'\u001b[39m\u001b[39mshadow_window\u001b[39m\u001b[39m'\u001b[39m]:\n\u001b[1;32m    <a href='file:///home/ethan/miniconda3/envs/rl-fixture/lib/python3.8/site-packages/pyglet/gl/__init__.py?line=240'>241</a>\u001b[0m     \u001b[39m# trickery is for circular import\u001b[39;00m\n\u001b[1;32m    <a href='file:///home/ethan/miniconda3/envs/rl-fixture/lib/python3.8/site-packages/pyglet/gl/__init__.py?line=241'>242</a>\u001b[0m     _pyglet\u001b[39m.\u001b[39mgl \u001b[39m=\u001b[39m _sys\u001b[39m.\u001b[39mmodules[\u001b[39m__name__\u001b[39m]\n\u001b[0;32m--> <a href='file:///home/ethan/miniconda3/envs/rl-fixture/lib/python3.8/site-packages/pyglet/gl/__init__.py?line=242'>243</a>\u001b[0m     \u001b[39mimport\u001b[39;00m \u001b[39mpyglet\u001b[39;00m\u001b[39m.\u001b[39;00m\u001b[39mwindow\u001b[39;00m\n",
      "File \u001b[0;32m~/miniconda3/envs/rl-fixture/lib/python3.8/site-packages/pyglet/window/__init__.py:1897\u001b[0m, in \u001b[0;36m<module>\u001b[0;34m\u001b[0m\n\u001b[1;32m   <a href='file:///home/ethan/miniconda3/envs/rl-fixture/lib/python3.8/site-packages/pyglet/window/__init__.py?line=1894'>1895</a>\u001b[0m \u001b[39mif\u001b[39;00m \u001b[39mnot\u001b[39;00m _is_pyglet_doc_run:\n\u001b[1;32m   <a href='file:///home/ethan/miniconda3/envs/rl-fixture/lib/python3.8/site-packages/pyglet/window/__init__.py?line=1895'>1896</a>\u001b[0m     pyglet\u001b[39m.\u001b[39mwindow \u001b[39m=\u001b[39m sys\u001b[39m.\u001b[39mmodules[\u001b[39m__name__\u001b[39m]\n\u001b[0;32m-> <a href='file:///home/ethan/miniconda3/envs/rl-fixture/lib/python3.8/site-packages/pyglet/window/__init__.py?line=1896'>1897</a>\u001b[0m     gl\u001b[39m.\u001b[39;49m_create_shadow_window()\n",
      "File \u001b[0;32m~/miniconda3/envs/rl-fixture/lib/python3.8/site-packages/pyglet/gl/__init__.py:220\u001b[0m, in \u001b[0;36m_create_shadow_window\u001b[0;34m()\u001b[0m\n\u001b[1;32m    <a href='file:///home/ethan/miniconda3/envs/rl-fixture/lib/python3.8/site-packages/pyglet/gl/__init__.py?line=216'>217</a>\u001b[0m     \u001b[39mreturn\u001b[39;00m\n\u001b[1;32m    <a href='file:///home/ethan/miniconda3/envs/rl-fixture/lib/python3.8/site-packages/pyglet/gl/__init__.py?line=218'>219</a>\u001b[0m \u001b[39mfrom\u001b[39;00m \u001b[39mpyglet\u001b[39;00m\u001b[39m.\u001b[39;00m\u001b[39mwindow\u001b[39;00m \u001b[39mimport\u001b[39;00m Window\n\u001b[0;32m--> <a href='file:///home/ethan/miniconda3/envs/rl-fixture/lib/python3.8/site-packages/pyglet/gl/__init__.py?line=219'>220</a>\u001b[0m _shadow_window \u001b[39m=\u001b[39m Window(width\u001b[39m=\u001b[39;49m\u001b[39m1\u001b[39;49m, height\u001b[39m=\u001b[39;49m\u001b[39m1\u001b[39;49m, visible\u001b[39m=\u001b[39;49m\u001b[39mFalse\u001b[39;49;00m)\n\u001b[1;32m    <a href='file:///home/ethan/miniconda3/envs/rl-fixture/lib/python3.8/site-packages/pyglet/gl/__init__.py?line=220'>221</a>\u001b[0m _shadow_window\u001b[39m.\u001b[39mswitch_to()\n\u001b[1;32m    <a href='file:///home/ethan/miniconda3/envs/rl-fixture/lib/python3.8/site-packages/pyglet/gl/__init__.py?line=222'>223</a>\u001b[0m \u001b[39mfrom\u001b[39;00m \u001b[39mpyglet\u001b[39;00m \u001b[39mimport\u001b[39;00m app\n",
      "File \u001b[0;32m~/miniconda3/envs/rl-fixture/lib/python3.8/site-packages/pyglet/window/xlib/__init__.py:173\u001b[0m, in \u001b[0;36mXlibWindow.__init__\u001b[0;34m(self, *args, **kwargs)\u001b[0m\n\u001b[1;32m    <a href='file:///home/ethan/miniconda3/envs/rl-fixture/lib/python3.8/site-packages/pyglet/window/xlib/__init__.py?line=169'>170</a>\u001b[0m         \u001b[39melse\u001b[39;00m:\n\u001b[1;32m    <a href='file:///home/ethan/miniconda3/envs/rl-fixture/lib/python3.8/site-packages/pyglet/window/xlib/__init__.py?line=170'>171</a>\u001b[0m             \u001b[39mself\u001b[39m\u001b[39m.\u001b[39m_event_handlers[message] \u001b[39m=\u001b[39m func\n\u001b[0;32m--> <a href='file:///home/ethan/miniconda3/envs/rl-fixture/lib/python3.8/site-packages/pyglet/window/xlib/__init__.py?line=172'>173</a>\u001b[0m \u001b[39msuper\u001b[39;49m(XlibWindow, \u001b[39mself\u001b[39;49m)\u001b[39m.\u001b[39;49m\u001b[39m__init__\u001b[39;49m(\u001b[39m*\u001b[39;49margs, \u001b[39m*\u001b[39;49m\u001b[39m*\u001b[39;49mkwargs)\n\u001b[1;32m    <a href='file:///home/ethan/miniconda3/envs/rl-fixture/lib/python3.8/site-packages/pyglet/window/xlib/__init__.py?line=174'>175</a>\u001b[0m \u001b[39mglobal\u001b[39;00m _can_detect_autorepeat\n\u001b[1;32m    <a href='file:///home/ethan/miniconda3/envs/rl-fixture/lib/python3.8/site-packages/pyglet/window/xlib/__init__.py?line=175'>176</a>\u001b[0m \u001b[39mif\u001b[39;00m _can_detect_autorepeat \u001b[39mis\u001b[39;00m \u001b[39mNone\u001b[39;00m:\n",
      "File \u001b[0;32m~/miniconda3/envs/rl-fixture/lib/python3.8/site-packages/pyglet/window/__init__.py:606\u001b[0m, in \u001b[0;36mBaseWindow.__init__\u001b[0;34m(self, width, height, caption, resizable, style, fullscreen, visible, vsync, file_drops, display, screen, config, context, mode)\u001b[0m\n\u001b[1;32m    <a href='file:///home/ethan/miniconda3/envs/rl-fixture/lib/python3.8/site-packages/pyglet/window/__init__.py?line=602'>603</a>\u001b[0m     config \u001b[39m=\u001b[39m screen\u001b[39m.\u001b[39mget_best_config(config)\n\u001b[1;32m    <a href='file:///home/ethan/miniconda3/envs/rl-fixture/lib/python3.8/site-packages/pyglet/window/__init__.py?line=604'>605</a>\u001b[0m \u001b[39mif\u001b[39;00m \u001b[39mnot\u001b[39;00m context:\n\u001b[0;32m--> <a href='file:///home/ethan/miniconda3/envs/rl-fixture/lib/python3.8/site-packages/pyglet/window/__init__.py?line=605'>606</a>\u001b[0m     context \u001b[39m=\u001b[39m config\u001b[39m.\u001b[39;49mcreate_context(gl\u001b[39m.\u001b[39;49mcurrent_context)\n\u001b[1;32m    <a href='file:///home/ethan/miniconda3/envs/rl-fixture/lib/python3.8/site-packages/pyglet/window/__init__.py?line=607'>608</a>\u001b[0m \u001b[39m# Set these in reverse order to above, to ensure we get user preference\u001b[39;00m\n\u001b[1;32m    <a href='file:///home/ethan/miniconda3/envs/rl-fixture/lib/python3.8/site-packages/pyglet/window/__init__.py?line=608'>609</a>\u001b[0m \u001b[39mself\u001b[39m\u001b[39m.\u001b[39m_context \u001b[39m=\u001b[39m context\n",
      "File \u001b[0;32m~/miniconda3/envs/rl-fixture/lib/python3.8/site-packages/pyglet/gl/xlib.py:204\u001b[0m, in \u001b[0;36mXlibCanvasConfig13.create_context\u001b[0;34m(self, share)\u001b[0m\n\u001b[1;32m    <a href='file:///home/ethan/miniconda3/envs/rl-fixture/lib/python3.8/site-packages/pyglet/gl/xlib.py?line=201'>202</a>\u001b[0m \u001b[39mdef\u001b[39;00m \u001b[39mcreate_context\u001b[39m(\u001b[39mself\u001b[39m, share):\n\u001b[1;32m    <a href='file:///home/ethan/miniconda3/envs/rl-fixture/lib/python3.8/site-packages/pyglet/gl/xlib.py?line=202'>203</a>\u001b[0m     \u001b[39mif\u001b[39;00m \u001b[39mself\u001b[39m\u001b[39m.\u001b[39mglx_info\u001b[39m.\u001b[39mhave_extension(\u001b[39m'\u001b[39m\u001b[39mGLX_ARB_create_context\u001b[39m\u001b[39m'\u001b[39m):\n\u001b[0;32m--> <a href='file:///home/ethan/miniconda3/envs/rl-fixture/lib/python3.8/site-packages/pyglet/gl/xlib.py?line=203'>204</a>\u001b[0m         \u001b[39mreturn\u001b[39;00m XlibContextARB(\u001b[39mself\u001b[39;49m, share)\n\u001b[1;32m    <a href='file:///home/ethan/miniconda3/envs/rl-fixture/lib/python3.8/site-packages/pyglet/gl/xlib.py?line=204'>205</a>\u001b[0m     \u001b[39melse\u001b[39;00m:\n\u001b[1;32m    <a href='file:///home/ethan/miniconda3/envs/rl-fixture/lib/python3.8/site-packages/pyglet/gl/xlib.py?line=205'>206</a>\u001b[0m         \u001b[39mreturn\u001b[39;00m XlibContext13(\u001b[39mself\u001b[39m, share)\n",
      "File \u001b[0;32m~/miniconda3/envs/rl-fixture/lib/python3.8/site-packages/pyglet/gl/xlib.py:314\u001b[0m, in \u001b[0;36mXlibContext13.__init__\u001b[0;34m(self, config, share)\u001b[0m\n\u001b[1;32m    <a href='file:///home/ethan/miniconda3/envs/rl-fixture/lib/python3.8/site-packages/pyglet/gl/xlib.py?line=312'>313</a>\u001b[0m \u001b[39mdef\u001b[39;00m \u001b[39m__init__\u001b[39m(\u001b[39mself\u001b[39m, config, share):\n\u001b[0;32m--> <a href='file:///home/ethan/miniconda3/envs/rl-fixture/lib/python3.8/site-packages/pyglet/gl/xlib.py?line=313'>314</a>\u001b[0m     \u001b[39msuper\u001b[39;49m(XlibContext13, \u001b[39mself\u001b[39;49m)\u001b[39m.\u001b[39;49m\u001b[39m__init__\u001b[39;49m(config, share)\n\u001b[1;32m    <a href='file:///home/ethan/miniconda3/envs/rl-fixture/lib/python3.8/site-packages/pyglet/gl/xlib.py?line=314'>315</a>\u001b[0m     \u001b[39mself\u001b[39m\u001b[39m.\u001b[39mglx_window \u001b[39m=\u001b[39m \u001b[39mNone\u001b[39;00m\n",
      "File \u001b[0;32m~/miniconda3/envs/rl-fixture/lib/python3.8/site-packages/pyglet/gl/xlib.py:218\u001b[0m, in \u001b[0;36mBaseXlibContext.__init__\u001b[0;34m(self, config, share)\u001b[0m\n\u001b[1;32m    <a href='file:///home/ethan/miniconda3/envs/rl-fixture/lib/python3.8/site-packages/pyglet/gl/xlib.py?line=214'>215</a>\u001b[0m \u001b[39mself\u001b[39m\u001b[39m.\u001b[39mglx_context \u001b[39m=\u001b[39m \u001b[39mself\u001b[39m\u001b[39m.\u001b[39m_create_glx_context(share)\n\u001b[1;32m    <a href='file:///home/ethan/miniconda3/envs/rl-fixture/lib/python3.8/site-packages/pyglet/gl/xlib.py?line=215'>216</a>\u001b[0m \u001b[39mif\u001b[39;00m \u001b[39mnot\u001b[39;00m \u001b[39mself\u001b[39m\u001b[39m.\u001b[39mglx_context:\n\u001b[1;32m    <a href='file:///home/ethan/miniconda3/envs/rl-fixture/lib/python3.8/site-packages/pyglet/gl/xlib.py?line=216'>217</a>\u001b[0m     \u001b[39m# TODO: Check Xlib error generated\u001b[39;00m\n\u001b[0;32m--> <a href='file:///home/ethan/miniconda3/envs/rl-fixture/lib/python3.8/site-packages/pyglet/gl/xlib.py?line=217'>218</a>\u001b[0m     \u001b[39mraise\u001b[39;00m gl\u001b[39m.\u001b[39mContextException(\u001b[39m'\u001b[39m\u001b[39mCould not create GL context\u001b[39m\u001b[39m'\u001b[39m)\n\u001b[1;32m    <a href='file:///home/ethan/miniconda3/envs/rl-fixture/lib/python3.8/site-packages/pyglet/gl/xlib.py?line=219'>220</a>\u001b[0m \u001b[39mself\u001b[39m\u001b[39m.\u001b[39m_have_SGI_video_sync \u001b[39m=\u001b[39m config\u001b[39m.\u001b[39mglx_info\u001b[39m.\u001b[39mhave_extension(\u001b[39m'\u001b[39m\u001b[39mGLX_SGI_video_sync\u001b[39m\u001b[39m'\u001b[39m)\n\u001b[1;32m    <a href='file:///home/ethan/miniconda3/envs/rl-fixture/lib/python3.8/site-packages/pyglet/gl/xlib.py?line=220'>221</a>\u001b[0m \u001b[39mself\u001b[39m\u001b[39m.\u001b[39m_have_SGI_swap_control \u001b[39m=\u001b[39m config\u001b[39m.\u001b[39mglx_info\u001b[39m.\u001b[39mhave_extension(\u001b[39m'\u001b[39m\u001b[39mGLX_SGI_swap_control\u001b[39m\u001b[39m'\u001b[39m)\n",
      "\u001b[0;31mContextException\u001b[0m: Could not create GL context"
     ]
    }
   ],
   "source": [
    "# Start with just the simple cartpole problem\n",
    "\n",
    "env = gym.make('CartPole-v1')\n",
    "env.reset()\n",
    "\n",
    "for idx in range(MAX_EPISODES):\n",
    "    observation = env.reset()\n",
    "    for t in range(MAX_ITERATIONS):\n",
    "        env.render()\n",
    "        action = env.action_space.sample()\n",
    "        observation, reward, done, info = env.step(action)\n",
    "        \n",
    "        if done:\n",
    "            print(observation)\n",
    "            print(f\"Epsiode finished after {t+1} timesteps\")\n",
    "            break\n",
    "env.close()"
   ]
  },
  {
   "cell_type": "code",
   "execution_count": 5,
   "metadata": {},
   "outputs": [
    {
     "data": {
      "text/plain": [
       "'\\nInformation regarding environment:\\n\\nObservation space:\\n(4,) array with elements: [position, velocity, angle, angular velocity]\\n\\nAction space:\\n(1,) array that is in the range {0,1} (DISCRETE)\\n'"
      ]
     },
     "execution_count": 5,
     "metadata": {},
     "output_type": "execute_result"
    }
   ],
   "source": [
    "\"\"\"\n",
    "Information regarding environment:\n",
    "\n",
    "Observation space:\n",
    "(4,) array with elements: [position, velocity, angle, angular velocity]\n",
    "\n",
    "Action space:\n",
    "(1,) array that is in the range {0,1} (DISCRETE)\n",
    "\"\"\"\n",
    "\n"
   ]
  },
  {
   "cell_type": "code",
   "execution_count": null,
   "metadata": {},
   "outputs": [],
   "source": []
  }
 ],
 "metadata": {
  "interpreter": {
   "hash": "97b2bf48e32d8e2de32d844e69cf674f1390fa5d8c53747b94ee65ed539bc7c2"
  },
  "kernelspec": {
   "display_name": "Python 3 (ipykernel)",
   "language": "python",
   "name": "python3"
  },
  "language_info": {
   "codemirror_mode": {
    "name": "ipython",
    "version": 3
   },
   "file_extension": ".py",
   "mimetype": "text/x-python",
   "name": "python",
   "nbconvert_exporter": "python",
   "pygments_lexer": "ipython3",
   "version": "3.8.13"
  }
 },
 "nbformat": 4,
 "nbformat_minor": 4
}
