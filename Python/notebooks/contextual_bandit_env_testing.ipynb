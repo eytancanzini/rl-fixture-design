{
 "cells": [
  {
   "cell_type": "markdown",
   "id": "6c1cd073-65e2-48c5-80e5-4380e63b4c03",
   "metadata": {},
   "source": [
    "# Creating a simulation environment for the Contextual Bandit problem"
   ]
  },
  {
   "cell_type": "markdown",
   "id": "da8e9cd0-3444-48bd-bee3-4ef92cb29f0e",
   "metadata": {},
   "source": [
    "### To-Do List:\n",
    "- [ ] Create the basic environment\n",
    "- [ ] Get the DQN to train on the basic environment\n",
    "- [ ] Incorporate the ABAQUS simulator to calculate deformation values"
   ]
  },
  {
   "cell_type": "markdown",
   "id": "2fcce84e-9998-4a25-9eb0-cb842d96bfdf",
   "metadata": {},
   "source": [
    "The idea is to create an environment that functions as a stochastic non-stationary contextual bandit (similar to the one used in the `sspe.NonStationaryStochasticBandit` environment from Tensorflow). In a non-stationary environment, the reward distributions are perceived as random distributions that depend on the observation received from the environment $r_t \\sim f(a_t, \\mathcal{O})$."
   ]
  },
  {
   "cell_type": "code",
   "execution_count": 39,
   "id": "dc58b790-7fb2-4fb9-85df-bb17192a12ee",
   "metadata": {},
   "outputs": [
    {
     "data": {
      "text/plain": [
       "'0.21.0'"
      ]
     },
     "execution_count": 39,
     "metadata": {},
     "output_type": "execute_result"
    }
   ],
   "source": [
    "import gym\n",
    "import numpy as np\n",
    "from gym import spaces, utils, error\n",
    "from gym.utils import seeding\n",
    "from sympy import symbols\n",
    "\n",
    "gym.__version__"
   ]
  },
  {
   "cell_type": "markdown",
   "id": "0c0945af-dff8-484e-bd3f-e2b660816f70",
   "metadata": {},
   "source": [
    "The general idea for this environment is as follows: the agent is presented with a context (the hole that is going to be drilled) and then chooses a single action* in the form of a fixture location. The algorithm would then return a value for the deformation in two directions which is then fed into a normal distribution that returns the reward. "
   ]
  },
  {
   "cell_type": "code",
   "execution_count": 40,
   "id": "d07f7506-7e40-4991-9453-ce525ad24cc5",
   "metadata": {},
   "outputs": [
    {
     "data": {
      "text/plain": [
       "(array(0), 43/884, True, {})"
      ]
     },
     "execution_count": 40,
     "metadata": {},
     "output_type": "execute_result"
    }
   ],
   "source": [
    "class ContextBandit(gym.Env):\n",
    "    \n",
    "    def __init__(self, contexts, actions):\n",
    "        \n",
    "        low = np.array([\n",
    "            0,0,0,0\n",
    "        ]).astype(np.float32)\n",
    "        \n",
    "        high = np.array([\n",
    "            10, 10, 10, 100\n",
    "        ]).astype(np.float32)\n",
    "        \n",
    "        self.viewer = None\n",
    "        self.num_contexts = len(contexts)\n",
    "        self.num_actions = len(actions)\n",
    "        \n",
    "        self.action_space = spaces.Discrete(self.num_actions)\n",
    "        self.observation_space = spaces.Box(low, high)\n",
    "        \n",
    "        self._seed()\n",
    "        self._reset()\n",
    "        self.xvec, self.zvec = symbols('x z')\n",
    "        self.a = 1\n",
    "        self.b = 1\n",
    "        self.c = 0\n",
    "        \n",
    "    def _reset(self):\n",
    "        self.state = np.random.randint(self.num_contexts)\n",
    "        return np.array(self.state)\n",
    "    \n",
    "    def _seed(self, seed=None):\n",
    "        self.np_random, seed = seeding.np_random(seed)\n",
    "        return [seed]\n",
    "    \n",
    "    def _render(self, mode='human', close=False):\n",
    "        pass\n",
    "    \n",
    "    def step(self, action):\n",
    "        \n",
    "        assert self.action_space.contains(action)\n",
    "        \n",
    "        reward = 0\n",
    "        done = True\n",
    "        observation = self._get_observation(action, self.state)\n",
    "        \n",
    "        reward = self._get_reward(observation)\n",
    "        \n",
    "        if self.state == 0:\n",
    "            self.state = 1\n",
    "        else:\n",
    "            self.state = 0\n",
    "            \n",
    "        return np.array(self.state), reward, done, {}\n",
    "    \n",
    "    def _get_observation(self, action, context):\n",
    "        \"\"\"\n",
    "        Observation formulation: \n",
    "         - x_def\n",
    "         - y_def\n",
    "         - z_def\n",
    "         - von mises\n",
    "        \"\"\"\n",
    "        return np.random.randint(low=0, high=10, size=4)\n",
    "    \n",
    "    def _get_reward(self, observation):\n",
    "        \n",
    "        x = observation[0]\n",
    "        z = observation[2]\n",
    "        \n",
    "        R = (1/(1 + ((self.xvec-self.c)/self.a)**(2*self.b)) + 1/(1 + ((self.zvec-self.c)/self.a)**(2*self.b)))/2\n",
    "        return R.subs(self.xvec, x).subs(self.zvec, z)\n",
    "    \n",
    "context = np.random.randint(low=0, high=16, size=15)\n",
    "action = np.asarray([1, 2, 3, 4, 5])\n",
    "env = ContextBandit(context, action)\n",
    "env.step(2)"
   ]
  },
  {
   "cell_type": "code",
   "execution_count": 42,
   "id": "0ded04d7-ff05-4964-b112-d60845cb25a5",
   "metadata": {},
   "outputs": [
    {
     "data": {
      "text/latex": [
       "$\\displaystyle 0.519180774230269$"
      ],
      "text/plain": [
       "0.519180774230269"
      ]
     },
     "execution_count": 42,
     "metadata": {},
     "output_type": "execute_result"
    }
   ],
   "source": [
    "x = symbols('x')\n",
    "y = symbols('y')\n",
    "a = 1\n",
    "b = 1\n",
    "c = 0\n",
    "R = (1/(1 + ((x-c)/a)**(2*b)) + 1/(1 + ((y-c)/a)**(2*b)))/2\n",
    "R.subs(x, 0.01).subs(y, 5)"
   ]
  },
  {
   "cell_type": "code",
   "execution_count": null,
   "id": "bf1353b4-3aef-4b2b-9bce-a124234fd82f",
   "metadata": {},
   "outputs": [],
   "source": []
  }
 ],
 "metadata": {
  "kernelspec": {
   "display_name": "Python 3 (ipykernel)",
   "language": "python",
   "name": "python3"
  },
  "language_info": {
   "codemirror_mode": {
    "name": "ipython",
    "version": 3
   },
   "file_extension": ".py",
   "mimetype": "text/x-python",
   "name": "python",
   "nbconvert_exporter": "python",
   "pygments_lexer": "ipython3",
   "version": "3.8.13"
  }
 },
 "nbformat": 4,
 "nbformat_minor": 5
}
