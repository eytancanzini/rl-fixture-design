{
 "cells": [
  {
   "cell_type": "code",
   "execution_count": 18,
   "metadata": {},
   "outputs": [],
   "source": [
    "import calculateDeformation\n",
    "# import numpy as np\n",
    "import matlab\n"
   ]
  },
  {
   "cell_type": "code",
   "execution_count": 19,
   "metadata": {},
   "outputs": [
    {
     "data": {
      "text/plain": [
       "<matlab_pysdk.runtime.deployablepackage.DeployablePackage at 0x7fcba381b670>"
      ]
     },
     "execution_count": 19,
     "metadata": {},
     "output_type": "execute_result"
    }
   ],
   "source": [
    "my_calculate = calculateDeformation.initialize()\n",
    "my_calculate"
   ]
  },
  {
   "cell_type": "code",
   "execution_count": 20,
   "metadata": {},
   "outputs": [],
   "source": [
    "fixturePosIn = matlab.double([400.0, 800.0,0.0], size=(1, 3))\n",
    "drillPosIn = matlab.double([505.283, 487.164, 10.0], size=(1, 3))\n",
    "zOut, xOut = my_calculate.calculateDeformation(fixturePosIn, drillPosIn, nargout=2)"
   ]
  },
  {
   "cell_type": "code",
   "execution_count": 21,
   "metadata": {},
   "outputs": [
    {
     "data": {
      "text/plain": [
       "(0.00012386059064134524,\n",
       " array([ 0.00000000e+00,  0.00000000e+00,  0.00000000e+00, ...,\n",
       "         1.18168223e-08,  3.52829764e-08, -2.66580504e-08]),\n",
       " array([[ 0.00000000e+00],\n",
       "        [ 0.00000000e+00],\n",
       "        [ 0.00000000e+00],\n",
       "        ...,\n",
       "        [-1.10331051e-07],\n",
       "        [ 1.58841411e-05],\n",
       "        [ 3.94130947e-07]]),\n",
       " array([[ 0.00000000e+00],\n",
       "        [ 0.00000000e+00],\n",
       "        [ 0.00000000e+00],\n",
       "        ...,\n",
       "        [ 1.18168223e-08],\n",
       "        [ 3.52829764e-08],\n",
       "        [-2.66580504e-08]]))"
      ]
     },
     "execution_count": 21,
     "metadata": {},
     "output_type": "execute_result"
    }
   ],
   "source": [
    "import numpy as np\n",
    "\n",
    "zvec = np.asarray(zOut)\n",
    "xvec = np.asarray(xOut)\n",
    "zvec.shape\n",
    "\n",
    "vec = np.append(zvec, xvec, axis=1)\n",
    "max(vec[:,0]), vec[:,1], zvec, xvec"
   ]
  },
  {
   "cell_type": "code",
   "execution_count": 22,
   "metadata": {},
   "outputs": [
    {
     "data": {
      "image/png": "[encoded data removed]",
      "text/plain": [
       "<Figure size 720x432 with 1 Axes>"
      ]
     },
     "metadata": {
      "needs_background": "light"
     },
     "output_type": "display_data"
    }
   ],
   "source": [
    "import matplotlib.pyplot as plt\n",
    "\n",
    "plt.figure(figsize=(10,6))\n",
    "plt.hist(zvec, bins=100)\n",
    "plt.show()"
   ]
  },
  {
   "cell_type": "code",
   "execution_count": 23,
   "metadata": {},
   "outputs": [],
   "source": [
    "import sys\n",
    "\n",
    "sys.path.append('../scripts/')\n",
    "\n",
    "from bandit_environments import FixtureBandit"
   ]
  },
  {
   "cell_type": "code",
   "execution_count": 24,
   "metadata": {},
   "outputs": [
    {
     "data": {
      "text/plain": [
       "array([0, 1, 2, 3, 4, 5])"
      ]
     },
     "execution_count": 24,
     "metadata": {},
     "output_type": "execute_result"
    }
   ],
   "source": [
    "from gym import spaces, utils, error\n",
    "\n",
    "np.arange(6)"
   ]
  },
  {
   "cell_type": "markdown",
   "metadata": {},
   "source": [
    "The first set of contexts that we will use follow the line equation $y=-5.6689x+3351.3$. We will want about 100 points on this line. \n",
    "\n",
    "TODO:\n",
    "1.  Write a function that generates the XY points on this line \n",
    "2. Insert this array into the $\\mathbb{R}^3$ array that is all the points on the top face "
   ]
  },
  {
   "cell_type": "code",
   "execution_count": null,
   "metadata": {},
   "outputs": [],
   "source": [
    "\n",
    "contexts = np.array([])"
   ]
  }
 ],
 "metadata": {
  "kernelspec": {
   "display_name": "Python 3.8.13 ('rl-fixture')",
   "language": "python",
   "name": "python3"
  },
  "language_info": {
   "codemirror_mode": {
    "name": "ipython",
    "version": 3
   },
   "file_extension": ".py",
   "mimetype": "text/x-python",
   "name": "python",
   "nbconvert_exporter": "python",
   "pygments_lexer": "ipython3",
   "version": "3.8.13"
  },
  "orig_nbformat": 4,
  "vscode": {
   "interpreter": {
    "hash": "3a0aea7473422203c46da3606392391321e1a4ecfa34ed89f71584c047912540"
   }
  }
 },
 "nbformat": 4,
 "nbformat_minor": 2
}
