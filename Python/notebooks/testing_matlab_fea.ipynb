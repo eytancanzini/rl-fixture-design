{
 "cells": [
  {
   "cell_type": "code",
   "execution_count": 1,
   "metadata": {},
   "outputs": [],
   "source": [
    "import calculateDeformation\n",
    "# import numpy as np\n",
    "import matlab\n"
   ]
  },
  {
   "cell_type": "code",
   "execution_count": 2,
   "metadata": {},
   "outputs": [
    {
     "data": {
      "text/plain": [
       "<matlab_pysdk.runtime.deployablepackage.DeployablePackage at 0x7fa3f8c4e400>"
      ]
     },
     "execution_count": 2,
     "metadata": {},
     "output_type": "execute_result"
    }
   ],
   "source": [
    "my_calculate = calculateDeformation.initialize()\n",
    "my_calculate"
   ]
  },
  {
   "cell_type": "code",
   "execution_count": 5,
   "metadata": {},
   "outputs": [],
   "source": [
    "fixturePosIn = matlab.double([400.0, 800.0, 10.0], size=(1, 3))\n",
    "drillPosIn = matlab.double([505.283, 487.164, 10.0], size=(1, 3))\n",
    "zOut, xOut = my_calculate.calculateDeformation(fixturePosIn, drillPosIn, nargout=2)"
   ]
  },
  {
   "cell_type": "code",
   "execution_count": 44,
   "metadata": {},
   "outputs": [
    {
     "data": {
      "text/plain": [
       "(0.00012362745855813546,\n",
       " array([ 0.00000000e+00,  0.00000000e+00,  0.00000000e+00, ...,\n",
       "        -1.71459769e-07,  1.21253304e-08,  0.00000000e+00]),\n",
       " array([[ 0.00000000e+00],\n",
       "        [ 0.00000000e+00],\n",
       "        [ 0.00000000e+00],\n",
       "        ...,\n",
       "        [ 4.36071447e-06],\n",
       "        [-1.19978823e-07],\n",
       "        [ 0.00000000e+00]]),\n",
       " array([[ 0.00000000e+00],\n",
       "        [ 0.00000000e+00],\n",
       "        [ 0.00000000e+00],\n",
       "        ...,\n",
       "        [-1.71459769e-07],\n",
       "        [ 1.21253304e-08],\n",
       "        [ 0.00000000e+00]]))"
      ]
     },
     "execution_count": 44,
     "metadata": {},
     "output_type": "execute_result"
    }
   ],
   "source": [
    "import numpy as np\n",
    "\n",
    "zvec = np.asarray(zOut)\n",
    "xvec = np.asarray(xOut)\n",
    "zvec.shape\n",
    "\n",
    "vec = np.append(zvec, xvec, axis=1)\n",
    "max(vec[:,0]), vec[:,1], zvec, xvec"
   ]
  },
  {
   "cell_type": "code",
   "execution_count": 30,
   "metadata": {},
   "outputs": [
    {
     "data": {
      "image/png": "[encoded data removed]",
      "text/plain": [
       "<Figure size 720x432 with 1 Axes>"
      ]
     },
     "metadata": {
      "needs_background": "light"
     },
     "output_type": "display_data"
    }
   ],
   "source": [
    "import matplotlib.pyplot as plt\n",
    "\n",
    "plt.figure(figsize=(10,6))\n",
    "plt.hist(zvec, bins=100)\n",
    "plt.show()"
   ]
  },
  {
   "cell_type": "code",
   "execution_count": null,
   "metadata": {},
   "outputs": [],
   "source": []
  }
 ],
 "metadata": {
  "kernelspec": {
   "display_name": "Python 3.8.13 ('rl-fixture')",
   "language": "python",
   "name": "python3"
  },
  "language_info": {
   "codemirror_mode": {
    "name": "ipython",
    "version": 3
   },
   "file_extension": ".py",
   "mimetype": "text/x-python",
   "name": "python",
   "nbconvert_exporter": "python",
   "pygments_lexer": "ipython3",
   "version": "3.8.13"
  },
  "orig_nbformat": 4,
  "vscode": {
   "interpreter": {
    "hash": "3a0aea7473422203c46da3606392391321e1a4ecfa34ed89f71584c047912540"
   }
  }
 },
 "nbformat": 4,
 "nbformat_minor": 2
}
