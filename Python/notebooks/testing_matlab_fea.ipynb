{
 "cells": [
  {
   "cell_type": "code",
   "execution_count": 4,
   "metadata": {},
   "outputs": [],
   "source": [
    "import calculateDeformation\n",
    "# import numpy as np\n",
    "import matlab\n"
   ]
  },
  {
   "cell_type": "code",
   "execution_count": 5,
   "metadata": {},
   "outputs": [
    {
     "data": {
      "text/plain": [
       "<matlab_pysdk.runtime.deployablepackage.DeployablePackage at 0x7fc3d0399b80>"
      ]
     },
     "execution_count": 5,
     "metadata": {},
     "output_type": "execute_result"
    }
   ],
   "source": [
    "my_calculate = calculateDeformation.initialize()\n",
    "my_calculate"
   ]
  },
  {
   "cell_type": "code",
   "execution_count": 6,
   "metadata": {},
   "outputs": [
    {
     "name": "stdout",
     "output_type": "stream",
     "text": [
      "Warning: 1507 elements have a very distorted geometry which affects the quality of the analysis results. Carefully examine the solution.\n",
      "> In pde.EquationModel/assembleSelectedFEMatrices (line 16)\n",
      "In pde/DiscretizedPDEModel/initialDiscretization (line 50)\n",
      "In pde.DiscretizedPDEModel (line 33)\n",
      "In pde.StructuralModel/solve (line 345)\n",
      "In calculateDeformation (line 19)\n"
     ]
    }
   ],
   "source": [
    "fixturePosIn = matlab.double([400.0, 800.0, 10.0], size=(1, 3))\n",
    "drillPosIn = matlab.double([505.283, 487.164, 10.0], size=(1, 3))\n",
    "zOut, xOut = my_calculate.calculateDeformation(fixturePosIn, drillPosIn, nargout=2)"
   ]
  },
  {
   "cell_type": "code",
   "execution_count": 2,
   "metadata": {},
   "outputs": [],
   "source": [
    "import numpy as np\n"
   ]
  },
  {
   "cell_type": "code",
   "execution_count": 9,
   "metadata": {},
   "outputs": [
    {
     "data": {
      "text/plain": [
       "array([7.81097443e-09])"
      ]
     },
     "execution_count": 9,
     "metadata": {},
     "output_type": "execute_result"
    }
   ],
   "source": [
    "zvec = np.asarray(zOut)\n",
    "max(zvec)"
   ]
  },
  {
   "cell_type": "code",
   "execution_count": null,
   "metadata": {},
   "outputs": [],
   "source": []
  }
 ],
 "metadata": {
  "kernelspec": {
   "display_name": "Python 3.8.13 ('rl-fixture')",
   "language": "python",
   "name": "python3"
  },
  "language_info": {
   "codemirror_mode": {
    "name": "ipython",
    "version": 3
   },
   "file_extension": ".py",
   "mimetype": "text/x-python",
   "name": "python",
   "nbconvert_exporter": "python",
   "pygments_lexer": "ipython3",
   "version": "3.8.13"
  },
  "orig_nbformat": 4,
  "vscode": {
   "interpreter": {
    "hash": "97b2bf48e32d8e2de32d844e69cf674f1390fa5d8c53747b94ee65ed539bc7c2"
   }
  }
 },
 "nbformat": 4,
 "nbformat_minor": 2
}
